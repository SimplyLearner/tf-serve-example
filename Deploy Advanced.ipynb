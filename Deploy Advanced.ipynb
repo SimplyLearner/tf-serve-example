{
 "cells": [
  {
   "cell_type": "code",
   "execution_count": 1,
   "id": "6a47913d",
   "metadata": {},
   "outputs": [
    {
     "name": "stdout",
     "output_type": "stream",
     "text": [
      "Collecting grpcio==1.32.0\n",
      "  Downloading grpcio-1.32.0.tar.gz (20.8 MB)\n",
      "Collecting tensorflow-serving-api==2.3.0\n",
      "  Downloading tensorflow_serving_api-2.3.0-py2.py3-none-any.whl (38 kB)\n",
      "Requirement already satisfied: six>=1.5.2 in c:\\users\\navan\\anaconda3\\lib\\site-packages (from grpcio==1.32.0) (1.16.0)\n",
      "Requirement already satisfied: protobuf>=3.6.0 in c:\\users\\navan\\anaconda3\\lib\\site-packages (from tensorflow-serving-api==2.3.0) (3.19.1)\n",
      "Requirement already satisfied: tensorflow<3,>=2.3 in c:\\users\\navan\\anaconda3\\lib\\site-packages (from tensorflow-serving-api==2.3.0) (2.7.0)\n",
      "Requirement already satisfied: numpy>=1.14.5 in c:\\users\\navan\\anaconda3\\lib\\site-packages (from tensorflow<3,>=2.3->tensorflow-serving-api==2.3.0) (1.20.3)\n",
      "Requirement already satisfied: wheel<1.0,>=0.32.0 in c:\\users\\navan\\anaconda3\\lib\\site-packages (from tensorflow<3,>=2.3->tensorflow-serving-api==2.3.0) (0.37.0)\n",
      "Requirement already satisfied: keras<2.8,>=2.7.0rc0 in c:\\users\\navan\\anaconda3\\lib\\site-packages (from tensorflow<3,>=2.3->tensorflow-serving-api==2.3.0) (2.7.0)\n",
      "Requirement already satisfied: tensorboard~=2.6 in c:\\users\\navan\\anaconda3\\lib\\site-packages (from tensorflow<3,>=2.3->tensorflow-serving-api==2.3.0) (2.7.0)\n",
      "Requirement already satisfied: typing-extensions>=3.6.6 in c:\\users\\navan\\anaconda3\\lib\\site-packages (from tensorflow<3,>=2.3->tensorflow-serving-api==2.3.0) (3.10.0.2)\n",
      "Requirement already satisfied: h5py>=2.9.0 in c:\\users\\navan\\anaconda3\\lib\\site-packages (from tensorflow<3,>=2.3->tensorflow-serving-api==2.3.0) (3.2.1)\n",
      "Requirement already satisfied: flatbuffers<3.0,>=1.12 in c:\\users\\navan\\anaconda3\\lib\\site-packages (from tensorflow<3,>=2.3->tensorflow-serving-api==2.3.0) (2.0)\n",
      "Requirement already satisfied: absl-py>=0.4.0 in c:\\users\\navan\\anaconda3\\lib\\site-packages (from tensorflow<3,>=2.3->tensorflow-serving-api==2.3.0) (1.0.0)\n",
      "Requirement already satisfied: astunparse>=1.6.0 in c:\\users\\navan\\anaconda3\\lib\\site-packages (from tensorflow<3,>=2.3->tensorflow-serving-api==2.3.0) (1.6.3)\n",
      "Requirement already satisfied: google-pasta>=0.1.1 in c:\\users\\navan\\anaconda3\\lib\\site-packages (from tensorflow<3,>=2.3->tensorflow-serving-api==2.3.0) (0.2.0)\n",
      "Requirement already satisfied: wrapt>=1.11.0 in c:\\users\\navan\\anaconda3\\lib\\site-packages (from tensorflow<3,>=2.3->tensorflow-serving-api==2.3.0) (1.12.1)\n",
      "Requirement already satisfied: tensorflow-estimator<2.8,~=2.7.0rc0 in c:\\users\\navan\\anaconda3\\lib\\site-packages (from tensorflow<3,>=2.3->tensorflow-serving-api==2.3.0) (2.7.0)\n",
      "Requirement already satisfied: termcolor>=1.1.0 in c:\\users\\navan\\anaconda3\\lib\\site-packages (from tensorflow<3,>=2.3->tensorflow-serving-api==2.3.0) (1.1.0)\n",
      "Requirement already satisfied: gast<0.5.0,>=0.2.1 in c:\\users\\navan\\anaconda3\\lib\\site-packages (from tensorflow<3,>=2.3->tensorflow-serving-api==2.3.0) (0.4.0)\n",
      "Requirement already satisfied: keras-preprocessing>=1.1.1 in c:\\users\\navan\\anaconda3\\lib\\site-packages (from tensorflow<3,>=2.3->tensorflow-serving-api==2.3.0) (1.1.2)\n",
      "Requirement already satisfied: opt-einsum>=2.3.2 in c:\\users\\navan\\anaconda3\\lib\\site-packages (from tensorflow<3,>=2.3->tensorflow-serving-api==2.3.0) (3.3.0)\n",
      "Requirement already satisfied: libclang>=9.0.1 in c:\\users\\navan\\anaconda3\\lib\\site-packages (from tensorflow<3,>=2.3->tensorflow-serving-api==2.3.0) (12.0.0)\n",
      "Requirement already satisfied: tensorflow-io-gcs-filesystem>=0.21.0 in c:\\users\\navan\\anaconda3\\lib\\site-packages (from tensorflow<3,>=2.3->tensorflow-serving-api==2.3.0) (0.23.1)\n"
     ]
    },
    {
     "name": "stderr",
     "output_type": "stream",
     "text": [
      "  ERROR: Command errored out with exit status 1:\n",
      "   command: 'C:\\Users\\navan\\anaconda3\\python.exe' -u -c 'import io, os, sys, setuptools, tokenize; sys.argv[0] = '\"'\"'C:\\\\Users\\\\navan\\\\AppData\\\\Local\\\\Temp\\\\pip-install-a9fd245m\\\\grpcio_f8dfc306bbf64221b1e9d1cfa2959a68\\\\setup.py'\"'\"'; __file__='\"'\"'C:\\\\Users\\\\navan\\\\AppData\\\\Local\\\\Temp\\\\pip-install-a9fd245m\\\\grpcio_f8dfc306bbf64221b1e9d1cfa2959a68\\\\setup.py'\"'\"';f = getattr(tokenize, '\"'\"'open'\"'\"', open)(__file__) if os.path.exists(__file__) else io.StringIO('\"'\"'from setuptools import setup; setup()'\"'\"');code = f.read().replace('\"'\"'\\r\\n'\"'\"', '\"'\"'\\n'\"'\"');f.close();exec(compile(code, __file__, '\"'\"'exec'\"'\"'))' bdist_wheel -d 'C:\\Users\\navan\\AppData\\Local\\Temp\\pip-wheel-gqilju2c'\n",
      "       cwd: C:\\Users\\navan\\AppData\\Local\\Temp\\pip-install-a9fd245m\\grpcio_f8dfc306bbf64221b1e9d1cfa2959a68\\\n",
      "  Complete output (79 lines):\n",
      "  ASM Builds for BoringSSL currently not supported on: win-amd64\n",
      "  Found cython-generated files...\n",
      "  running bdist_wheel\n",
      "  running build\n",
      "  running build_py\n",
      "  running build_project_metadata\n",
      "  creating python_build\n",
      "  creating python_build\\lib.win-amd64-3.9\n",
      "  creating python_build\\lib.win-amd64-3.9\\grpc\n",
      "  copying src\\python\\grpcio\\grpc\\_auth.py -> python_build\\lib.win-amd64-3.9\\grpc\n",
      "  copying src\\python\\grpcio\\grpc\\_channel.py -> python_build\\lib.win-amd64-3.9\\grpc\n",
      "  copying src\\python\\grpcio\\grpc\\_common.py -> python_build\\lib.win-amd64-3.9\\grpc\n",
      "  copying src\\python\\grpcio\\grpc\\_compression.py -> python_build\\lib.win-amd64-3.9\\grpc\n",
      "  copying src\\python\\grpcio\\grpc\\_grpcio_metadata.py -> python_build\\lib.win-amd64-3.9\\grpc\n",
      "  copying src\\python\\grpcio\\grpc\\_interceptor.py -> python_build\\lib.win-amd64-3.9\\grpc\n",
      "  copying src\\python\\grpcio\\grpc\\_plugin_wrapping.py -> python_build\\lib.win-amd64-3.9\\grpc\n",
      "  copying src\\python\\grpcio\\grpc\\_runtime_protos.py -> python_build\\lib.win-amd64-3.9\\grpc\n",
      "  copying src\\python\\grpcio\\grpc\\_server.py -> python_build\\lib.win-amd64-3.9\\grpc\n",
      "  copying src\\python\\grpcio\\grpc\\_simple_stubs.py -> python_build\\lib.win-amd64-3.9\\grpc\n",
      "  copying src\\python\\grpcio\\grpc\\_utilities.py -> python_build\\lib.win-amd64-3.9\\grpc\n",
      "  copying src\\python\\grpcio\\grpc\\__init__.py -> python_build\\lib.win-amd64-3.9\\grpc\n",
      "  creating python_build\\lib.win-amd64-3.9\\grpc\\aio\n",
      "  copying src\\python\\grpcio\\grpc\\aio\\_base_call.py -> python_build\\lib.win-amd64-3.9\\grpc\\aio\n",
      "  copying src\\python\\grpcio\\grpc\\aio\\_base_channel.py -> python_build\\lib.win-amd64-3.9\\grpc\\aio\n",
      "  copying src\\python\\grpcio\\grpc\\aio\\_base_server.py -> python_build\\lib.win-amd64-3.9\\grpc\\aio\n",
      "  copying src\\python\\grpcio\\grpc\\aio\\_call.py -> python_build\\lib.win-amd64-3.9\\grpc\\aio\n",
      "  copying src\\python\\grpcio\\grpc\\aio\\_channel.py -> python_build\\lib.win-amd64-3.9\\grpc\\aio\n",
      "  copying src\\python\\grpcio\\grpc\\aio\\_interceptor.py -> python_build\\lib.win-amd64-3.9\\grpc\\aio\n",
      "  copying src\\python\\grpcio\\grpc\\aio\\_metadata.py -> python_build\\lib.win-amd64-3.9\\grpc\\aio\n",
      "  copying src\\python\\grpcio\\grpc\\aio\\_server.py -> python_build\\lib.win-amd64-3.9\\grpc\\aio\n",
      "  copying src\\python\\grpcio\\grpc\\aio\\_typing.py -> python_build\\lib.win-amd64-3.9\\grpc\\aio\n",
      "  copying src\\python\\grpcio\\grpc\\aio\\_utils.py -> python_build\\lib.win-amd64-3.9\\grpc\\aio\n",
      "  copying src\\python\\grpcio\\grpc\\aio\\__init__.py -> python_build\\lib.win-amd64-3.9\\grpc\\aio\n",
      "  creating python_build\\lib.win-amd64-3.9\\grpc\\beta\n",
      "  copying src\\python\\grpcio\\grpc\\beta\\implementations.py -> python_build\\lib.win-amd64-3.9\\grpc\\beta\n",
      "  copying src\\python\\grpcio\\grpc\\beta\\interfaces.py -> python_build\\lib.win-amd64-3.9\\grpc\\beta"
     ]
    },
    {
     "name": "stdout",
     "output_type": "stream",
     "text": [
      "Requirement already satisfied: tensorboard-data-server<0.7.0,>=0.6.0 in c:\\users\\navan\\anaconda3\\lib\\site-packages (from tensorboard~=2.6->tensorflow<3,>=2.3->tensorflow-serving-api==2.3.0) (0.6.1)\n",
      "Requirement already satisfied: werkzeug>=0.11.15 in c:\\users\\navan\\anaconda3\\lib\\site-packages (from tensorboard~=2.6->tensorflow<3,>=2.3->tensorflow-serving-api==2.3.0) (2.0.2)\n",
      "Requirement already satisfied: requests<3,>=2.21.0 in c:\\users\\navan\\anaconda3\\lib\\site-packages (from tensorboard~=2.6->tensorflow<3,>=2.3->tensorflow-serving-api==2.3.0) (2.27.1)\n",
      "Requirement already satisfied: google-auth<3,>=1.6.3 in c:\\users\\navan\\anaconda3\\lib\\site-packages (from tensorboard~=2.6->tensorflow<3,>=2.3->tensorflow-serving-api==2.3.0) (2.3.3)\n",
      "Requirement already satisfied: tensorboard-plugin-wit>=1.6.0 in c:\\users\\navan\\anaconda3\\lib\\site-packages (from tensorboard~=2.6->tensorflow<3,>=2.3->tensorflow-serving-api==2.3.0) (1.8.1)\n",
      "Requirement already satisfied: markdown>=2.6.8 in c:\\users\\navan\\anaconda3\\lib\\site-packages (from tensorboard~=2.6->tensorflow<3,>=2.3->tensorflow-serving-api==2.3.0) (3.3.6)\n",
      "Requirement already satisfied: google-auth-oauthlib<0.5,>=0.4.1 in c:\\users\\navan\\anaconda3\\lib\\site-packages (from tensorboard~=2.6->tensorflow<3,>=2.3->tensorflow-serving-api==2.3.0) (0.4.6)\n",
      "Requirement already satisfied: setuptools>=41.0.0 in c:\\users\\navan\\anaconda3\\lib\\site-packages (from tensorboard~=2.6->tensorflow<3,>=2.3->tensorflow-serving-api==2.3.0) (58.0.4)\n",
      "Requirement already satisfied: cachetools<5.0,>=2.0.0 in c:\\users\\navan\\anaconda3\\lib\\site-packages (from google-auth<3,>=1.6.3->tensorboard~=2.6->tensorflow<3,>=2.3->tensorflow-serving-api==2.3.0) (4.2.2)\n",
      "Requirement already satisfied: pyasn1-modules>=0.2.1 in c:\\users\\navan\\anaconda3\\lib\\site-packages (from google-auth<3,>=1.6.3->tensorboard~=2.6->tensorflow<3,>=2.3->tensorflow-serving-api==2.3.0) (0.2.8)\n",
      "Requirement already satisfied: rsa<5,>=3.1.4 in c:\\users\\navan\\anaconda3\\lib\\site-packages (from google-auth<3,>=1.6.3->tensorboard~=2.6->tensorflow<3,>=2.3->tensorflow-serving-api==2.3.0) (4.8)\n",
      "Requirement already satisfied: requests-oauthlib>=0.7.0 in c:\\users\\navan\\anaconda3\\lib\\site-packages (from google-auth-oauthlib<0.5,>=0.4.1->tensorboard~=2.6->tensorflow<3,>=2.3->tensorflow-serving-api==2.3.0) (1.3.0)\n",
      "Requirement already satisfied: importlib-metadata>=4.4 in c:\\users\\navan\\anaconda3\\lib\\site-packages (from markdown>=2.6.8->tensorboard~=2.6->tensorflow<3,>=2.3->tensorflow-serving-api==2.3.0) (4.8.1)\n",
      "Requirement already satisfied: zipp>=0.5 in c:\\users\\navan\\anaconda3\\lib\\site-packages (from importlib-metadata>=4.4->markdown>=2.6.8->tensorboard~=2.6->tensorflow<3,>=2.3->tensorflow-serving-api==2.3.0) (3.6.0)\n",
      "Requirement already satisfied: pyasn1<0.5.0,>=0.4.6 in c:\\users\\navan\\anaconda3\\lib\\site-packages (from pyasn1-modules>=0.2.1->google-auth<3,>=1.6.3->tensorboard~=2.6->tensorflow<3,>=2.3->tensorflow-serving-api==2.3.0) (0.4.8)\n",
      "Requirement already satisfied: charset-normalizer~=2.0.0 in c:\\users\\navan\\anaconda3\\lib\\site-packages (from requests<3,>=2.21.0->tensorboard~=2.6->tensorflow<3,>=2.3->tensorflow-serving-api==2.3.0) (2.0.4)\n",
      "Requirement already satisfied: idna<4,>=2.5 in c:\\users\\navan\\anaconda3\\lib\\site-packages (from requests<3,>=2.21.0->tensorboard~=2.6->tensorflow<3,>=2.3->tensorflow-serving-api==2.3.0) (3.2)\n",
      "Requirement already satisfied: certifi>=2017.4.17 in c:\\users\\navan\\anaconda3\\lib\\site-packages (from requests<3,>=2.21.0->tensorboard~=2.6->tensorflow<3,>=2.3->tensorflow-serving-api==2.3.0) (2021.10.8)\n",
      "Requirement already satisfied: urllib3<1.27,>=1.21.1 in c:\\users\\navan\\anaconda3\\lib\\site-packages (from requests<3,>=2.21.0->tensorboard~=2.6->tensorflow<3,>=2.3->tensorflow-serving-api==2.3.0) (1.26.7)\n",
      "Requirement already satisfied: oauthlib>=3.0.0 in c:\\users\\navan\\anaconda3\\lib\\site-packages (from requests-oauthlib>=0.7.0->google-auth-oauthlib<0.5,>=0.4.1->tensorboard~=2.6->tensorflow<3,>=2.3->tensorflow-serving-api==2.3.0) (3.2.0)\n",
      "Building wheels for collected packages: grpcio\n",
      "  Building wheel for grpcio (setup.py): started\n",
      "  Building wheel for grpcio (setup.py): finished with status 'error'\n",
      "  Running setup.py clean for grpcio\n",
      "Failed to build grpcio\n",
      "Installing collected packages: grpcio, tensorflow-serving-api\n",
      "  Attempting uninstall: grpcio\n",
      "    Found existing installation: grpcio 1.43.0\n",
      "    Uninstalling grpcio-1.43.0:\n",
      "      Successfully uninstalled grpcio-1.43.0\n",
      "    Running setup.py install for grpcio: started\n",
      "    Running setup.py install for grpcio: finished with status 'error'\n",
      "  Rolling back uninstall of grpcio\n",
      "  Moving to c:\\users\\navan\\anaconda3\\lib\\site-packages\\grpc\\\n",
      "   from C:\\Users\\navan\\anaconda3\\Lib\\site-packages\\~rpc\n",
      "  Moving to c:\\users\\navan\\anaconda3\\lib\\site-packages\\grpcio-1.43.0.dist-info\\\n",
      "   from C:\\Users\\navan\\anaconda3\\Lib\\site-packages\\~rpcio-1.43.0.dist-info\n"
     ]
    },
    {
     "name": "stderr",
     "output_type": "stream",
     "text": [
      "\n",
      "  copying src\\python\\grpcio\\grpc\\beta\\utilities.py -> python_build\\lib.win-amd64-3.9\\grpc\\beta\n",
      "  copying src\\python\\grpcio\\grpc\\beta\\_client_adaptations.py -> python_build\\lib.win-amd64-3.9\\grpc\\beta\n",
      "  copying src\\python\\grpcio\\grpc\\beta\\_metadata.py -> python_build\\lib.win-amd64-3.9\\grpc\\beta\n",
      "  copying src\\python\\grpcio\\grpc\\beta\\_server_adaptations.py -> python_build\\lib.win-amd64-3.9\\grpc\\beta\n",
      "  copying src\\python\\grpcio\\grpc\\beta\\__init__.py -> python_build\\lib.win-amd64-3.9\\grpc\\beta\n",
      "  creating python_build\\lib.win-amd64-3.9\\grpc\\experimental\n",
      "  copying src\\python\\grpcio\\grpc\\experimental\\gevent.py -> python_build\\lib.win-amd64-3.9\\grpc\\experimental\n",
      "  copying src\\python\\grpcio\\grpc\\experimental\\session_cache.py -> python_build\\lib.win-amd64-3.9\\grpc\\experimental\n",
      "  copying src\\python\\grpcio\\grpc\\experimental\\__init__.py -> python_build\\lib.win-amd64-3.9\\grpc\\experimental\n",
      "  creating python_build\\lib.win-amd64-3.9\\grpc\\framework\n",
      "  copying src\\python\\grpcio\\grpc\\framework\\__init__.py -> python_build\\lib.win-amd64-3.9\\grpc\\framework\n",
      "  creating python_build\\lib.win-amd64-3.9\\grpc\\_cython\n",
      "  copying src\\python\\grpcio\\grpc\\_cython\\__init__.py -> python_build\\lib.win-amd64-3.9\\grpc\\_cython\n",
      "  creating python_build\\lib.win-amd64-3.9\\grpc\\experimental\\aio\n",
      "  copying src\\python\\grpcio\\grpc\\experimental\\aio\\__init__.py -> python_build\\lib.win-amd64-3.9\\grpc\\experimental\\aio\n",
      "  creating python_build\\lib.win-amd64-3.9\\grpc\\framework\\common\n",
      "  copying src\\python\\grpcio\\grpc\\framework\\common\\cardinality.py -> python_build\\lib.win-amd64-3.9\\grpc\\framework\\common\n",
      "  copying src\\python\\grpcio\\grpc\\framework\\common\\style.py -> python_build\\lib.win-amd64-3.9\\grpc\\framework\\common\n",
      "  copying src\\python\\grpcio\\grpc\\framework\\common\\__init__.py -> python_build\\lib.win-amd64-3.9\\grpc\\framework\\common\n",
      "  creating python_build\\lib.win-amd64-3.9\\grpc\\framework\\foundation\n",
      "  copying src\\python\\grpcio\\grpc\\framework\\foundation\\abandonment.py -> python_build\\lib.win-amd64-3.9\\grpc\\framework\\foundation\n",
      "  copying src\\python\\grpcio\\grpc\\framework\\foundation\\callable_util.py -> python_build\\lib.win-amd64-3.9\\grpc\\framework\\foundation\n",
      "  copying src\\python\\grpcio\\grpc\\framework\\foundation\\future.py -> python_build\\lib.win-amd64-3.9\\grpc\\framework\\foundation\n",
      "  copying src\\python\\grpcio\\grpc\\framework\\foundation\\logging_pool.py -> python_build\\lib.win-amd64-3.9\\grpc\\framework\\foundation\n",
      "  copying src\\python\\grpcio\\grpc\\framework\\foundation\\stream.py -> python_build\\lib.win-amd64-3.9\\grpc\\framework\\foundation\n",
      "  copying src\\python\\grpcio\\grpc\\framework\\foundation\\stream_util.py -> python_build\\lib.win-amd64-3.9\\grpc\\framework\\foundation\n",
      "  copying src\\python\\grpcio\\grpc\\framework\\foundation\\__init__.py -> python_build\\lib.win-amd64-3.9\\grpc\\framework\\foundation\n",
      "  creating python_build\\lib.win-amd64-3.9\\grpc\\framework\\interfaces\n",
      "  copying src\\python\\grpcio\\grpc\\framework\\interfaces\\__init__.py -> python_build\\lib.win-amd64-3.9\\grpc\\framework\\interfaces\n",
      "  creating python_build\\lib.win-amd64-3.9\\grpc\\framework\\interfaces\\base\n",
      "  copying src\\python\\grpcio\\grpc\\framework\\interfaces\\base\\base.py -> python_build\\lib.win-amd64-3.9\\grpc\\framework\\interfaces\\base\n",
      "  copying src\\python\\grpcio\\grpc\\framework\\interfaces\\base\\utilities.py -> python_build\\lib.win-amd64-3.9\\grpc\\framework\\interfaces\\base\n",
      "  copying src\\python\\grpcio\\grpc\\framework\\interfaces\\base\\__init__.py -> python_build\\lib.win-amd64-3.9\\grpc\\framework\\interfaces\\base\n",
      "  creating python_build\\lib.win-amd64-3.9\\grpc\\framework\\interfaces\\face\n",
      "  copying src\\python\\grpcio\\grpc\\framework\\interfaces\\face\\face.py -> python_build\\lib.win-amd64-3.9\\grpc\\framework\\interfaces\\face\n",
      "  copying src\\python\\grpcio\\grpc\\framework\\interfaces\\face\\utilities.py -> python_build\\lib.win-amd64-3.9\\grpc\\framework\\interfaces\\face\n",
      "  copying src\\python\\grpcio\\grpc\\framework\\interfaces\\face\\__init__.py -> python_build\\lib.win-amd64-3.9\\grpc\\framework\\interfaces\\face\n",
      "  creating python_build\\lib.win-amd64-3.9\\grpc\\_cython\\_cygrpc\n",
      "  copying src\\python\\grpcio\\grpc\\_cython\\_cygrpc\\__init__.py -> python_build\\lib.win-amd64-3.9\\grpc\\_cython\\_cygrpc\n",
      "  creating python_build\\lib.win-amd64-3.9\\grpc\\_cython\\_credentials\n",
      "  copying src\\python\\grpcio\\grpc\\_cython\\_credentials\\roots.pem -> python_build\\lib.win-amd64-3.9\\grpc\\_cython\\_credentials\n",
      "  running build_ext\n",
      "  error: [WinError 2] The system cannot find the file specified\n",
      "  ----------------------------------------\n",
      "  ERROR: Failed building wheel for grpcio\n",
      "    ERROR: Command errored out with exit status 1:\n",
      "     command: 'C:\\Users\\navan\\anaconda3\\python.exe' -u -c 'import io, os, sys, setuptools, tokenize; sys.argv[0] = '\"'\"'C:\\\\Users\\\\navan\\\\AppData\\\\Local\\\\Temp\\\\pip-install-a9fd245m\\\\grpcio_f8dfc306bbf64221b1e9d1cfa2959a68\\\\setup.py'\"'\"'; __file__='\"'\"'C:\\\\Users\\\\navan\\\\AppData\\\\Local\\\\Temp\\\\pip-install-a9fd245m\\\\grpcio_f8dfc306bbf64221b1e9d1cfa2959a68\\\\setup.py'\"'\"';f = getattr(tokenize, '\"'\"'open'\"'\"', open)(__file__) if os.path.exists(__file__) else io.StringIO('\"'\"'from setuptools import setup; setup()'\"'\"');code = f.read().replace('\"'\"'\\r\\n'\"'\"', '\"'\"'\\n'\"'\"');f.close();exec(compile(code, __file__, '\"'\"'exec'\"'\"'))' install --record 'C:\\Users\\navan\\AppData\\Local\\Temp\\pip-record-1phb5sfd\\install-record.txt' --single-version-externally-managed --compile --install-headers 'C:\\Users\\navan\\anaconda3\\Include\\grpcio'\n",
      "         cwd: C:\\Users\\navan\\AppData\\Local\\Temp\\pip-install-a9fd245m\\grpcio_f8dfc306bbf64221b1e9d1cfa2959a68\\\n",
      "    Complete output (85 lines):\n",
      "    C:\\Users\\navan\\AppData\\Local\\Temp\\pip-install-a9fd245m\\grpcio_f8dfc306bbf64221b1e9d1cfa2959a68\\src\\python\\grpcio\\commands.py:104: SyntaxWarning: \"is not\" with a literal. Did you mean \"!=\"?\n",
      "      if exit_code is not 0:\n",
      "    ASM Builds for BoringSSL currently not supported on: win-amd64\n",
      "    Cython-generated files are missing...\n",
      "    Compiling src\\python\\grpcio\\grpc/_cython/cygrpc.pyx because it changed.\n",
      "    [1/1] Cythonizing src\\python\\grpcio\\grpc/_cython/cygrpc.pyx\n",
      "    C:\\Users\\navan\\anaconda3\\lib\\site-packages\\Cython\\Compiler\\Main.py:369: FutureWarning: Cython directive 'language_level' not set, using 2 for now (Py2). This will change in a later release! File: C:\\Users\\navan\\AppData\\Local\\Temp\\pip-install-a9fd245m\\grpcio_f8dfc306bbf64221b1e9d1cfa2959a68\\src\\python\\grpcio\\grpc\\_cython\\cygrpc.pxd\n",
      "      tree = Parsing.p_module(s, pxd, full_module_name)\n",
      "    running install\n",
      "    running build\n",
      "    running build_py\n",
      "    running build_project_metadata\n",
      "    creating python_build\n",
      "    creating python_build\\lib.win-amd64-3.9\n",
      "    creating python_build\\lib.win-amd64-3.9\\grpc\n",
      "    copying src\\python\\grpcio\\grpc\\_auth.py -> python_build\\lib.win-amd64-3.9\\grpc\n",
      "    copying src\\python\\grpcio\\grpc\\_channel.py -> python_build\\lib.win-amd64-3.9\\grpc\n",
      "    copying src\\python\\grpcio\\grpc\\_common.py -> python_build\\lib.win-amd64-3.9\\grpc\n",
      "    copying src\\python\\grpcio\\grpc\\_compression.py -> python_build\\lib.win-amd64-3.9\\grpc\n",
      "    copying src\\python\\grpcio\\grpc\\_grpcio_metadata.py -> python_build\\lib.win-amd64-3.9\\grpc\n",
      "    copying src\\python\\grpcio\\grpc\\_interceptor.py -> python_build\\lib.win-amd64-3.9\\grpc\n",
      "    copying src\\python\\grpcio\\grpc\\_plugin_wrapping.py -> python_build\\lib.win-amd64-3.9\\grpc\n",
      "    copying src\\python\\grpcio\\grpc\\_runtime_protos.py -> python_build\\lib.win-amd64-3.9\\grpc\n",
      "    copying src\\python\\grpcio\\grpc\\_server.py -> python_build\\lib.win-amd64-3.9\\grpc\n",
      "    copying src\\python\\grpcio\\grpc\\_simple_stubs.py -> python_build\\lib.win-amd64-3.9\\grpc\n",
      "    copying src\\python\\grpcio\\grpc\\_utilities.py -> python_build\\lib.win-amd64-3.9\\grpc\n",
      "    copying src\\python\\grpcio\\grpc\\__init__.py -> python_build\\lib.win-amd64-3.9\\grpc\n",
      "    creating python_build\\lib.win-amd64-3.9\\grpc\\aio\n",
      "    copying src\\python\\grpcio\\grpc\\aio\\_base_call.py -> python_build\\lib.win-amd64-3.9\\grpc\\aio\n",
      "    copying src\\python\\grpcio\\grpc\\aio\\_base_channel.py -> python_build\\lib.win-amd64-3.9\\grpc\\aio\n",
      "    copying src\\python\\grpcio\\grpc\\aio\\_base_server.py -> python_build\\lib.win-amd64-3.9\\grpc\\aio\n",
      "    copying src\\python\\grpcio\\grpc\\aio\\_call.py -> python_build\\lib.win-amd64-3.9\\grpc\\aio\n",
      "    copying src\\python\\grpcio\\grpc\\aio\\_channel.py -> python_build\\lib.win-amd64-3.9\\grpc\\aio\n",
      "    copying src\\python\\grpcio\\grpc\\aio\\_interceptor.py -> python_build\\lib.win-amd64-3.9\\grpc\\aio\n",
      "    copying src\\python\\grpcio\\grpc\\aio\\_metadata.py -> python_build\\lib.win-amd64-3.9\\grpc\\aio\n",
      "    copying src\\python\\grpcio\\grpc\\aio\\_server.py -> python_build\\lib.win-amd64-3.9\\grpc\\aio\n",
      "    copying src\\python\\grpcio\\grpc\\aio\\_typing.py -> python_build\\lib.win-amd64-3.9\\grpc\\aio\n",
      "    copying src\\python\\grpcio\\grpc\\aio\\_utils.py -> python_build\\lib.win-amd64-3.9\\grpc\\aio\n",
      "    copying src\\python\\grpcio\\grpc\\aio\\__init__.py -> python_build\\lib.win-amd64-3.9\\grpc\\aio\n",
      "    creating python_build\\lib.win-amd64-3.9\\grpc\\beta\n",
      "    copying src\\python\\grpcio\\grpc\\beta\\implementations.py -> python_build\\lib.win-amd64-3.9\\grpc\\beta\n",
      "    copying src\\python\\grpcio\\grpc\\beta\\interfaces.py -> python_build\\lib.win-amd64-3.9\\grpc\\beta\n",
      "    copying src\\python\\grpcio\\grpc\\beta\\utilities.py -> python_build\\lib.win-amd64-3.9\\grpc\\beta\n",
      "    copying src\\python\\grpcio\\grpc\\beta\\_client_adaptations.py -> python_build\\lib.win-amd64-3.9\\grpc\\beta\n",
      "    copying src\\python\\grpcio\\grpc\\beta\\_metadata.py -> python_build\\lib.win-amd64-3.9\\grpc\\beta\n",
      "    copying src\\python\\grpcio\\grpc\\beta\\_server_adaptations.py -> python_build\\lib.win-amd64-3.9\\grpc\\beta\n",
      "    copying src\\python\\grpcio\\grpc\\beta\\__init__.py -> python_build\\lib.win-amd64-3.9\\grpc\\beta\n",
      "    creating python_build\\lib.win-amd64-3.9\\grpc\\experimental\n",
      "    copying src\\python\\grpcio\\grpc\\experimental\\gevent.py -> python_build\\lib.win-amd64-3.9\\grpc\\experimental\n",
      "    copying src\\python\\grpcio\\grpc\\experimental\\session_cache.py -> python_build\\lib.win-amd64-3.9\\grpc\\experimental\n",
      "    copying src\\python\\grpcio\\grpc\\experimental\\__init__.py -> python_build\\lib.win-amd64-3.9\\grpc\\experimental\n",
      "    creating python_build\\lib.win-amd64-3.9\\grpc\\framework\n",
      "    copying src\\python\\grpcio\\grpc\\framework\\__init__.py -> python_build\\lib.win-amd64-3.9\\grpc\\framework\n",
      "    creating python_build\\lib.win-amd64-3.9\\grpc\\_cython\n",
      "    copying src\\python\\grpcio\\grpc\\_cython\\__init__.py -> python_build\\lib.win-amd64-3.9\\grpc\\_cython\n",
      "    creating python_build\\lib.win-amd64-3.9\\grpc\\experimental\\aio\n",
      "    copying src\\python\\grpcio\\grpc\\experimental\\aio\\__init__.py -> python_build\\lib.win-amd64-3.9\\grpc\\experimental\\aio\n",
      "    creating python_build\\lib.win-amd64-3.9\\grpc\\framework\\common\n",
      "    copying src\\python\\grpcio\\grpc\\framework\\common\\cardinality.py -> python_build\\lib.win-amd64-3.9\\grpc\\framework\\common\n",
      "    copying src\\python\\grpcio\\grpc\\framework\\common\\style.py -> python_build\\lib.win-amd64-3.9\\grpc\\framework\\common\n",
      "    copying src\\python\\grpcio\\grpc\\framework\\common\\__init__.py -> python_build\\lib.win-amd64-3.9\\grpc\\framework\\common\n",
      "    creating python_build\\lib.win-amd64-3.9\\grpc\\framework\\foundation\n",
      "    copying src\\python\\grpcio\\grpc\\framework\\foundation\\abandonment.py -> python_build\\lib.win-amd64-3.9\\grpc\\framework\\foundation\n",
      "    copying src\\python\\grpcio\\grpc\\framework\\foundation\\callable_util.py -> python_build\\lib.win-amd64-3.9\\grpc\\framework\\foundation\n",
      "    copying src\\python\\grpcio\\grpc\\framework\\foundation\\future.py -> python_build\\lib.win-amd64-3.9\\grpc\\framework\\foundation\n",
      "    copying src\\python\\grpcio\\grpc\\framework\\foundation\\logging_pool.py -> python_build\\lib.win-amd64-3.9\\grpc\\framework\\foundation\n",
      "    copying src\\python\\grpcio\\grpc\\framework\\foundation\\stream.py -> python_build\\lib.win-amd64-3.9\\grpc\\framework\\foundation\n",
      "    copying src\\python\\grpcio\\grpc\\framework\\foundation\\stream_util.py -> python_build\\lib.win-amd64-3.9\\grpc\\framework\\foundation\n",
      "    copying src\\python\\grpcio\\grpc\\framework\\foundation\\__init__.py -> python_build\\lib.win-amd64-3.9\\grpc\\framework\\foundation\n",
      "    creating python_build\\lib.win-amd64-3.9\\grpc\\framework\\interfaces\n",
      "    copying src\\python\\grpcio\\grpc\\framework\\interfaces\\__init__.py -> python_build\\lib.win-amd64-3.9\\grpc\\framework\\interfaces\n",
      "    creating python_build\\lib.win-amd64-3.9\\grpc\\framework\\interfaces\\base\n",
      "    copying src\\python\\grpcio\\grpc\\framework\\interfaces\\base\\base.py -> python_build\\lib.win-amd64-3.9\\grpc\\framework\\interfaces\\base\n",
      "    copying src\\python\\grpcio\\grpc\\framework\\interfaces\\base\\utilities.py -> python_build\\lib.win-amd64-3.9\\grpc\\framework\\interfaces\\base\n",
      "    copying src\\python\\grpcio\\grpc\\framework\\interfaces\\base\\__init__.py -> python_build\\lib.win-amd64-3.9\\grpc\\framework\\interfaces\\base\n",
      "    creating python_build\\lib.win-amd64-3.9\\grpc\\framework\\interfaces\\face\n",
      "    copying src\\python\\grpcio\\grpc\\framework\\interfaces\\face\\face.py -> python_build\\lib.win-amd64-3.9\\grpc\\framework\\interfaces\\face\n",
      "    copying src\\python\\grpcio\\grpc\\framework\\interfaces\\face\\utilities.py -> python_build\\lib.win-amd64-3.9\\grpc\\framework\\interfaces\\face\n",
      "    copying src\\python\\grpcio\\grpc\\framework\\interfaces\\face\\__init__.py -> python_build\\lib.win-amd64-3.9\\grpc\\framework\\interfaces\\face\n",
      "    creating python_build\\lib.win-amd64-3.9\\grpc\\_cython\\_cygrpc\n",
      "    copying src\\python\\grpcio\\grpc\\_cython\\_cygrpc\\__init__.py -> python_build\\lib.win-amd64-3.9\\grpc\\_cython\\_cygrpc\n",
      "    creating python_build\\lib.win-amd64-3.9\\grpc\\_cython\\_credentials\n",
      "    copying src\\python\\grpcio\\grpc\\_cython\\_credentials\\roots.pem -> python_build\\lib.win-amd64-3.9\\grpc\\_cython\\_credentials\n",
      "    running build_ext\n",
      "    error: [WinError 2] The system cannot find the file specified\n",
      "    ----------------------------------------\n",
      "ERROR: Command errored out with exit status 1: 'C:\\Users\\navan\\anaconda3\\python.exe' -u -c 'import io, os, sys, setuptools, tokenize; sys.argv[0] = '\"'\"'C:\\\\Users\\\\navan\\\\AppData\\\\Local\\\\Temp\\\\pip-install-a9fd245m\\\\grpcio_f8dfc306bbf64221b1e9d1cfa2959a68\\\\setup.py'\"'\"'; __file__='\"'\"'C:\\\\Users\\\\navan\\\\AppData\\\\Local\\\\Temp\\\\pip-install-a9fd245m\\\\grpcio_f8dfc306bbf64221b1e9d1cfa2959a68\\\\setup.py'\"'\"';f = getattr(tokenize, '\"'\"'open'\"'\"', open)(__file__) if os.path.exists(__file__) else io.StringIO('\"'\"'from setuptools import setup; setup()'\"'\"');code = f.read().replace('\"'\"'\\r\\n'\"'\"', '\"'\"'\\n'\"'\"');f.close();exec(compile(code, __file__, '\"'\"'exec'\"'\"'))' install --record 'C:\\Users\\navan\\AppData\\Local\\Temp\\pip-record-1phb5sfd\\install-record.txt' --single-version-externally-managed --compile --install-headers 'C:\\Users\\navan\\anaconda3\\Include\\grpcio' Check the logs for full command output.\n"
     ]
    }
   ],
   "source": [
    "!pip install grpcio==1.32.0 "
   ]
  },
  {
   "cell_type": "code",
   "execution_count": 4,
   "id": "2cb0439b",
   "metadata": {},
   "outputs": [
    {
     "name": "stdout",
     "output_type": "stream",
     "text": [
      "Collecting tensorflow-serving-api==2.3.0\n",
      "  Using cached tensorflow_serving_api-2.3.0-py2.py3-none-any.whl (38 kB)\n",
      "Requirement already satisfied: grpcio>=1.0<2 in c:\\users\\navan\\anaconda3\\lib\\site-packages (from tensorflow-serving-api==2.3.0) (1.43.0)\n",
      "Requirement already satisfied: protobuf>=3.6.0 in c:\\users\\navan\\anaconda3\\lib\\site-packages (from tensorflow-serving-api==2.3.0) (3.19.1)\n",
      "Requirement already satisfied: tensorflow<3,>=2.3 in c:\\users\\navan\\anaconda3\\lib\\site-packages (from tensorflow-serving-api==2.3.0) (2.7.0)\n",
      "Requirement already satisfied: six>=1.5.2 in c:\\users\\navan\\anaconda3\\lib\\site-packages (from grpcio>=1.0<2->tensorflow-serving-api==2.3.0) (1.16.0)\n",
      "Requirement already satisfied: wrapt>=1.11.0 in c:\\users\\navan\\anaconda3\\lib\\site-packages (from tensorflow<3,>=2.3->tensorflow-serving-api==2.3.0) (1.12.1)\n",
      "Requirement already satisfied: google-pasta>=0.1.1 in c:\\users\\navan\\anaconda3\\lib\\site-packages (from tensorflow<3,>=2.3->tensorflow-serving-api==2.3.0) (0.2.0)\n",
      "Requirement already satisfied: wheel<1.0,>=0.32.0 in c:\\users\\navan\\anaconda3\\lib\\site-packages (from tensorflow<3,>=2.3->tensorflow-serving-api==2.3.0) (0.37.0)\n",
      "Requirement already satisfied: tensorboard~=2.6 in c:\\users\\navan\\anaconda3\\lib\\site-packages (from tensorflow<3,>=2.3->tensorflow-serving-api==2.3.0) (2.7.0)\n",
      "Requirement already satisfied: keras<2.8,>=2.7.0rc0 in c:\\users\\navan\\anaconda3\\lib\\site-packages (from tensorflow<3,>=2.3->tensorflow-serving-api==2.3.0) (2.7.0)\n",
      "Requirement already satisfied: keras-preprocessing>=1.1.1 in c:\\users\\navan\\anaconda3\\lib\\site-packages (from tensorflow<3,>=2.3->tensorflow-serving-api==2.3.0) (1.1.2)\n",
      "Requirement already satisfied: opt-einsum>=2.3.2 in c:\\users\\navan\\anaconda3\\lib\\site-packages (from tensorflow<3,>=2.3->tensorflow-serving-api==2.3.0) (3.3.0)\n",
      "Requirement already satisfied: tensorflow-estimator<2.8,~=2.7.0rc0 in c:\\users\\navan\\anaconda3\\lib\\site-packages (from tensorflow<3,>=2.3->tensorflow-serving-api==2.3.0) (2.7.0)\n",
      "Requirement already satisfied: libclang>=9.0.1 in c:\\users\\navan\\anaconda3\\lib\\site-packages (from tensorflow<3,>=2.3->tensorflow-serving-api==2.3.0) (12.0.0)\n",
      "Requirement already satisfied: astunparse>=1.6.0 in c:\\users\\navan\\anaconda3\\lib\\site-packages (from tensorflow<3,>=2.3->tensorflow-serving-api==2.3.0) (1.6.3)\n",
      "Requirement already satisfied: typing-extensions>=3.6.6 in c:\\users\\navan\\anaconda3\\lib\\site-packages (from tensorflow<3,>=2.3->tensorflow-serving-api==2.3.0) (3.10.0.2)\n",
      "Requirement already satisfied: flatbuffers<3.0,>=1.12 in c:\\users\\navan\\anaconda3\\lib\\site-packages (from tensorflow<3,>=2.3->tensorflow-serving-api==2.3.0) (2.0)\n",
      "Requirement already satisfied: numpy>=1.14.5 in c:\\users\\navan\\anaconda3\\lib\\site-packages (from tensorflow<3,>=2.3->tensorflow-serving-api==2.3.0) (1.20.3)\n",
      "Requirement already satisfied: tensorflow-io-gcs-filesystem>=0.21.0 in c:\\users\\navan\\anaconda3\\lib\\site-packages (from tensorflow<3,>=2.3->tensorflow-serving-api==2.3.0) (0.23.1)\n",
      "Requirement already satisfied: h5py>=2.9.0 in c:\\users\\navan\\anaconda3\\lib\\site-packages (from tensorflow<3,>=2.3->tensorflow-serving-api==2.3.0) (3.2.1)\n",
      "Requirement already satisfied: gast<0.5.0,>=0.2.1 in c:\\users\\navan\\anaconda3\\lib\\site-packages (from tensorflow<3,>=2.3->tensorflow-serving-api==2.3.0) (0.4.0)\n",
      "Requirement already satisfied: termcolor>=1.1.0 in c:\\users\\navan\\anaconda3\\lib\\site-packages (from tensorflow<3,>=2.3->tensorflow-serving-api==2.3.0) (1.1.0)\n",
      "Requirement already satisfied: absl-py>=0.4.0 in c:\\users\\navan\\anaconda3\\lib\\site-packages (from tensorflow<3,>=2.3->tensorflow-serving-api==2.3.0) (1.0.0)\n",
      "Requirement already satisfied: setuptools>=41.0.0 in c:\\users\\navan\\anaconda3\\lib\\site-packages (from tensorboard~=2.6->tensorflow<3,>=2.3->tensorflow-serving-api==2.3.0) (58.0.4)\n",
      "Requirement already satisfied: markdown>=2.6.8 in c:\\users\\navan\\anaconda3\\lib\\site-packages (from tensorboard~=2.6->tensorflow<3,>=2.3->tensorflow-serving-api==2.3.0) (3.3.6)\n",
      "Requirement already satisfied: tensorboard-data-server<0.7.0,>=0.6.0 in c:\\users\\navan\\anaconda3\\lib\\site-packages (from tensorboard~=2.6->tensorflow<3,>=2.3->tensorflow-serving-api==2.3.0) (0.6.1)\n",
      "Requirement already satisfied: google-auth-oauthlib<0.5,>=0.4.1 in c:\\users\\navan\\anaconda3\\lib\\site-packages (from tensorboard~=2.6->tensorflow<3,>=2.3->tensorflow-serving-api==2.3.0) (0.4.6)\n",
      "Requirement already satisfied: google-auth<3,>=1.6.3 in c:\\users\\navan\\anaconda3\\lib\\site-packages (from tensorboard~=2.6->tensorflow<3,>=2.3->tensorflow-serving-api==2.3.0) (2.3.3)\n",
      "Requirement already satisfied: requests<3,>=2.21.0 in c:\\users\\navan\\anaconda3\\lib\\site-packages (from tensorboard~=2.6->tensorflow<3,>=2.3->tensorflow-serving-api==2.3.0) (2.27.1)\n",
      "Requirement already satisfied: werkzeug>=0.11.15 in c:\\users\\navan\\anaconda3\\lib\\site-packages (from tensorboard~=2.6->tensorflow<3,>=2.3->tensorflow-serving-api==2.3.0) (2.0.2)\n",
      "Requirement already satisfied: tensorboard-plugin-wit>=1.6.0 in c:\\users\\navan\\anaconda3\\lib\\site-packages (from tensorboard~=2.6->tensorflow<3,>=2.3->tensorflow-serving-api==2.3.0) (1.8.1)\n",
      "Requirement already satisfied: pyasn1-modules>=0.2.1 in c:\\users\\navan\\anaconda3\\lib\\site-packages (from google-auth<3,>=1.6.3->tensorboard~=2.6->tensorflow<3,>=2.3->tensorflow-serving-api==2.3.0) (0.2.8)\n",
      "Requirement already satisfied: rsa<5,>=3.1.4 in c:\\users\\navan\\anaconda3\\lib\\site-packages (from google-auth<3,>=1.6.3->tensorboard~=2.6->tensorflow<3,>=2.3->tensorflow-serving-api==2.3.0) (4.8)\n",
      "Requirement already satisfied: cachetools<5.0,>=2.0.0 in c:\\users\\navan\\anaconda3\\lib\\site-packages (from google-auth<3,>=1.6.3->tensorboard~=2.6->tensorflow<3,>=2.3->tensorflow-serving-api==2.3.0) (4.2.2)\n",
      "Requirement already satisfied: requests-oauthlib>=0.7.0 in c:\\users\\navan\\anaconda3\\lib\\site-packages (from google-auth-oauthlib<0.5,>=0.4.1->tensorboard~=2.6->tensorflow<3,>=2.3->tensorflow-serving-api==2.3.0) (1.3.0)\n",
      "Requirement already satisfied: importlib-metadata>=4.4 in c:\\users\\navan\\anaconda3\\lib\\site-packages (from markdown>=2.6.8->tensorboard~=2.6->tensorflow<3,>=2.3->tensorflow-serving-api==2.3.0) (4.8.1)\n",
      "Requirement already satisfied: zipp>=0.5 in c:\\users\\navan\\anaconda3\\lib\\site-packages (from importlib-metadata>=4.4->markdown>=2.6.8->tensorboard~=2.6->tensorflow<3,>=2.3->tensorflow-serving-api==2.3.0) (3.6.0)\n",
      "Requirement already satisfied: pyasn1<0.5.0,>=0.4.6 in c:\\users\\navan\\anaconda3\\lib\\site-packages (from pyasn1-modules>=0.2.1->google-auth<3,>=1.6.3->tensorboard~=2.6->tensorflow<3,>=2.3->tensorflow-serving-api==2.3.0) (0.4.8)\n",
      "Requirement already satisfied: charset-normalizer~=2.0.0 in c:\\users\\navan\\anaconda3\\lib\\site-packages (from requests<3,>=2.21.0->tensorboard~=2.6->tensorflow<3,>=2.3->tensorflow-serving-api==2.3.0) (2.0.4)\n",
      "Requirement already satisfied: certifi>=2017.4.17 in c:\\users\\navan\\anaconda3\\lib\\site-packages (from requests<3,>=2.21.0->tensorboard~=2.6->tensorflow<3,>=2.3->tensorflow-serving-api==2.3.0) (2021.10.8)\n",
      "Requirement already satisfied: idna<4,>=2.5 in c:\\users\\navan\\anaconda3\\lib\\site-packages (from requests<3,>=2.21.0->tensorboard~=2.6->tensorflow<3,>=2.3->tensorflow-serving-api==2.3.0) (3.2)\n",
      "Requirement already satisfied: urllib3<1.27,>=1.21.1 in c:\\users\\navan\\anaconda3\\lib\\site-packages (from requests<3,>=2.21.0->tensorboard~=2.6->tensorflow<3,>=2.3->tensorflow-serving-api==2.3.0) (1.26.7)\n",
      "Requirement already satisfied: oauthlib>=3.0.0 in c:\\users\\navan\\anaconda3\\lib\\site-packages (from requests-oauthlib>=0.7.0->google-auth-oauthlib<0.5,>=0.4.1->tensorboard~=2.6->tensorflow<3,>=2.3->tensorflow-serving-api==2.3.0) (3.2.0)\n",
      "Installing collected packages: tensorflow-serving-api\n",
      "Successfully installed tensorflow-serving-api-2.3.0\n"
     ]
    }
   ],
   "source": [
    "!pip install tensorflow-serving-api==2.3.0"
   ]
  },
  {
   "cell_type": "code",
   "execution_count": 2,
   "id": "5731f6ec",
   "metadata": {},
   "outputs": [
    {
     "name": "stdout",
     "output_type": "stream",
     "text": [
      "Collecting keras_image_helper==0.0.1\n",
      "  Downloading keras_image_helper-0.0.1-py3-none-any.whl (4.6 kB)\n",
      "Requirement already satisfied: pillow in c:\\users\\navan\\anaconda3\\lib\\site-packages (from keras_image_helper==0.0.1) (8.4.0)\n",
      "Requirement already satisfied: numpy in c:\\users\\navan\\anaconda3\\lib\\site-packages (from keras_image_helper==0.0.1) (1.20.3)\n",
      "Installing collected packages: keras-image-helper\n",
      "Successfully installed keras-image-helper-0.0.1\n"
     ]
    }
   ],
   "source": [
    "!pip install keras_image_helper==0.0.1"
   ]
  },
  {
   "cell_type": "code",
   "execution_count": 5,
   "id": "312c64be",
   "metadata": {},
   "outputs": [],
   "source": [
    "import grpc\n",
    "import tensorflow as tf\n",
    " \n",
    "from tensorflow_serving.apis import predict_pb2\n",
    "from tensorflow_serving.apis import prediction_service_pb2_grpc"
   ]
  },
  {
   "cell_type": "code",
   "execution_count": 6,
   "id": "1b12b5a9",
   "metadata": {},
   "outputs": [],
   "source": [
    "host = 'localhost:8500'\n",
    "channel = grpc.insecure_channel(host)\n",
    "stub = prediction_service_pb2_grpc.PredictionServiceStub(channel)"
   ]
  },
  {
   "cell_type": "code",
   "execution_count": 7,
   "id": "dd7e45d7",
   "metadata": {},
   "outputs": [],
   "source": [
    "from keras_image_helper import create_preprocessor\n",
    " \n",
    "preprocessor = create_preprocessor('xception', target_size=(299, 299))"
   ]
  },
  {
   "cell_type": "code",
   "execution_count": 8,
   "id": "886c38ca",
   "metadata": {},
   "outputs": [],
   "source": [
    "url = \"http://bit.ly/mlbookcamp-pants\"\n",
    "X = preprocessor.from_url(url)"
   ]
  },
  {
   "cell_type": "code",
   "execution_count": 9,
   "id": "cc60be47",
   "metadata": {},
   "outputs": [],
   "source": [
    "def np_to_protobuf(data):\n",
    "    return tf.make_tensor_proto(data, shape=data.shape)"
   ]
  },
  {
   "cell_type": "code",
   "execution_count": 10,
   "id": "f712e6ec",
   "metadata": {},
   "outputs": [],
   "source": [
    "pb_request = predict_pb2.PredictRequest()\n",
    " \n",
    "pb_request.model_spec.name = 'clothing-model'\n",
    "pb_request.model_spec.signature_name = 'serving_default'\n",
    "pb_request.inputs['input_8'].CopyFrom(np_to_protobuf(X))"
   ]
  },
  {
   "cell_type": "code",
   "execution_count": 11,
   "id": "f1a9f0dc",
   "metadata": {},
   "outputs": [],
   "source": [
    "pb_result = stub.Predict(pb_request, timeout=20.0)"
   ]
  },
  {
   "cell_type": "code",
   "execution_count": 12,
   "id": "8a70dd71",
   "metadata": {},
   "outputs": [],
   "source": [
    "pred = pb_result.outputs['dense_7'].float_val"
   ]
  },
  {
   "cell_type": "code",
   "execution_count": 13,
   "id": "9fcbd319",
   "metadata": {},
   "outputs": [
    {
     "data": {
      "text/plain": [
       "[-1.8682907819747925, -4.761244773864746, -2.316983461380005, -1.062570333480835, 9.887161254882812, -2.812433958053589, -3.666283130645752, 3.200361728668213, -2.6023383140563965, -4.835046768188477]"
      ]
     },
     "execution_count": 13,
     "metadata": {},
     "output_type": "execute_result"
    }
   ],
   "source": [
    "pred"
   ]
  },
  {
   "cell_type": "code",
   "execution_count": 14,
   "id": "b0f83519",
   "metadata": {},
   "outputs": [],
   "source": [
    "labels = [\n",
    "    'dress',\n",
    "    'hat',\n",
    "    'longsleeve',\n",
    "    'outwear',\n",
    "    'pants',\n",
    "    'shirt',\n",
    "    'shoes',\n",
    "    'shorts',\n",
    "    'skirt',\n",
    "    't-shirt'\n",
    "]\n",
    " \n",
    "result = {c: p for c, p in zip(labels, pred)}"
   ]
  },
  {
   "cell_type": "code",
   "execution_count": 15,
   "id": "7d9ad150",
   "metadata": {},
   "outputs": [
    {
     "data": {
      "text/plain": [
       "{'dress': -1.8682907819747925,\n",
       " 'hat': -4.761244773864746,\n",
       " 'longsleeve': -2.316983461380005,\n",
       " 'outwear': -1.062570333480835,\n",
       " 'pants': 9.887161254882812,\n",
       " 'shirt': -2.812433958053589,\n",
       " 'shoes': -3.666283130645752,\n",
       " 'shorts': 3.200361728668213,\n",
       " 'skirt': -2.6023383140563965,\n",
       " 't-shirt': -4.835046768188477}"
      ]
     },
     "execution_count": 15,
     "metadata": {},
     "output_type": "execute_result"
    }
   ],
   "source": [
    "result"
   ]
  },
  {
   "cell_type": "code",
   "execution_count": 16,
   "id": "3f598f52",
   "metadata": {},
   "outputs": [
    {
     "data": {
      "text/plain": [
       "{'dress': -1.8682907819747925,\n",
       " 'hat': -4.761244773864746,\n",
       " 'longsleeve': -2.316983461380005,\n",
       " 'outwear': -1.062570333480835,\n",
       " 'pants': 9.887161254882812,\n",
       " 'shirt': -2.812433958053589,\n",
       " 'shoes': -3.666283130645752,\n",
       " 'shorts': 3.200361728668213,\n",
       " 'skirt': -2.6023383140563965,\n",
       " 't-shirt': -4.835046768188477}"
      ]
     },
     "execution_count": 16,
     "metadata": {},
     "output_type": "execute_result"
    }
   ],
   "source": [
    "import requests\n",
    " \n",
    "req = {\n",
    "    \"url\": \"http://bit.ly/mlbookcamp-pants\"\n",
    "}\n",
    " \n",
    "url = 'http://localhost:9696/predict'\n",
    " \n",
    "response = requests.post(url, json=req)\n",
    "response.json()"
   ]
  },
  {
   "cell_type": "code",
   "execution_count": null,
   "id": "cfd7794d",
   "metadata": {},
   "outputs": [],
   "source": []
  }
 ],
 "metadata": {
  "kernelspec": {
   "display_name": "Python 3 (ipykernel)",
   "language": "python",
   "name": "python3"
  },
  "language_info": {
   "codemirror_mode": {
    "name": "ipython",
    "version": 3
   },
   "file_extension": ".py",
   "mimetype": "text/x-python",
   "name": "python",
   "nbconvert_exporter": "python",
   "pygments_lexer": "ipython3",
   "version": "3.9.7"
  }
 },
 "nbformat": 4,
 "nbformat_minor": 5
}
